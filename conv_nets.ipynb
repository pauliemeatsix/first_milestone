{
  "cells": [
    {
      "cell_type": "markdown",
      "metadata": {
        "id": "KxaQLsqY58xV"
      },
      "source": [
        "**PyTorch Networks**\n",
        "\n",
        "---\n",
        "\n",
        "This exercise will be about convolutional neural networks and the *PyTorch* framework. In this exercise you will use a machine learning framework widely used nowadays and the main idea is for you to have a first contact with this library and it's modules. In this exercise we will use the [**CIFAR-10**](https://www.cs.toronto.edu/~kriz/cifar.html) dataset, which contains 32x32 colour images divided in 10 classes. Your task is to use PyTorch functions to build a network to correctly classify the dataset images.\n"
      ]
    },
    {
      "cell_type": "markdown",
      "metadata": {},
      "source": [
        "**7.1 PyTorch Tutorial \\[5\\]**\n",
        "\n",
        "---\n",
        "\n",
        "\n",
        "This first task is to make you have an initial background to be able to do the task 2. Pytorch is widely used and thanks to that there are many tutorials to introduce you to it's modules and functions. For your first task you should do [this](https://pytorch.org/tutorials/beginner/basics/intro.html) official pytorch tutorial. Don't worry, you don't have to submit the tutorial solved, but to finish the second task you will need to learn what is explained in this tutorial.\n",
        "\n",
        "Take the most of it, because the next assignments will also be related to pytorch, so take this time to learn about pytorch."
      ]
    },
    {
      "cell_type": "markdown",
      "metadata": {},
      "source": [
        "**7.2 Building your model \\[5\\]**\n",
        "\n",
        "---\n",
        "\n",
        "Your second task is to build a model able to achieve 70% of accuracy on the CIFAR-10 dataset. Pytorch has many networks already implemented on it, but you should implement it on your own. On *network.py* there is an initial network implemented, your task will be to modify this file to build your model. You can add or remove layers, change parameters (*in_features*, *out_features*, *kernel_size*), add different layers, etc. Note that you are not stricted to the layers already used on this file, feel free to look over the internet to have ideas about possible architectures that you use. Your final goal is to achieve at least *70%* of accuracy on the **validation set** with your model."
      ]
    },
    {
      "cell_type": "code",
      "execution_count": null,
      "metadata": {},
      "outputs": [],
      "source": [
        "#!pip3 install torch\n",
        "#!pip3 install torchvision\n",
        "from core import *\n",
        "from trainer import Trainer\n",
        "from network import Net\n",
        "import torchvision\n",
        "import torchvision.transforms as transforms\n",
        "import numpy as np\n",
        "import matplotlib.pyplot as plt\n",
        "%load_ext autoreload\n",
        "%autoreload 2"
      ]
    },
    {
      "cell_type": "markdown",
      "metadata": {},
      "source": [
        "In the file *trainer.py* there is *Trainer* class implemented, which will deal with the network training, gradients calculation and parameters updates. Feel free to take a look and see how it's done on *PyTorch*. Then, the function *get_dataloader()* method will get the **CIFAR-10** images already splitted on training and validation sets, returning two *dataloaders*."
      ]
    },
    {
      "cell_type": "code",
      "execution_count": null,
      "metadata": {},
      "outputs": [],
      "source": [
        "batch_size = 256\n",
        "\n",
        "# create the CIFAR-10 dataloaders\n",
        "train_loader, val_loader = get_dataloader(batch_size, torchvision.datasets.CIFAR10)\n"
      ]
    },
    {
      "cell_type": "markdown",
      "metadata": {},
      "source": [
        "By using the default network you probably will get something around *55~60%* of accuracy only on the **validation set**, try to run the next cell without changing the *network.py*. Your task is to modify the *network.py* file to build your own model, and get at least *70%* of accuracy on the **validation set**. You can also change the *lr* and *epochs* parameters."
      ]
    },
    {
      "cell_type": "code",
      "execution_count": null,
      "metadata": {
        "tags": []
      },
      "outputs": [],
      "source": [
        "# epochs is already defined in core.py\n",
        "lr = 0.01\n",
        "epochs = 10\n",
        "net = Net()\n",
        "trainer = Trainer(epochs=epochs, lr=lr, net=net, train_loader=train_loader, val_loader=val_loader)\n",
        "\n",
        "trainer.train()\n",
        "_, acc = trainer.validation(True)\n",
        "print(f'Accuracy of the network on the validation images: {acc}')\n",
        "\n",
        "trainer.save_model()"
      ]
    },
    {
      "cell_type": "markdown",
      "metadata": {},
      "source": [
        "After finishing the training, the *Trainer* will save your network trained weights on the file *model_weights.pt* which can be used to load the trained network."
      ]
    },
    {
      "cell_type": "code",
      "execution_count": null,
      "metadata": {},
      "outputs": [],
      "source": [
        "net = Net()\n",
        "load_model = torch.load('model_weights.pt')\n",
        "net.load_state_dict(load_model)\n",
        "\n",
        "trainer = Trainer(epochs=epochs, lr=lr, net=net, train_loader=train_loader, val_loader=val_loader)\n",
        "_, acc = trainer.validation(True)\n",
        "print(f'Accuracy of the network on the validation images: {acc}')"
      ]
    }
  ],
  "metadata": {
    "colab": {
      "name": "warmup_exercises.ipynb",
      "provenance": []
    },
    "kernelspec": {
      "display_name": "Python 3.8.5 64-bit",
      "name": "python385jvsc74a57bd0916dbcbb3f70747c44a77c7bcd40155683ae19c65e1c03b4aa3499c5328201f1"
    },
    "metadata": {
      "interpreter": {
        "hash": "916dbcbb3f70747c44a77c7bcd40155683ae19c65e1c03b4aa3499c5328201f1"
      }
    }
  },
  "nbformat": 4,
  "nbformat_minor": 0
}
